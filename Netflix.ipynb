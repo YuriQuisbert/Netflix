{
  "nbformat": 4,
  "nbformat_minor": 0,
  "metadata": {
    "colab": {
      "name": "Netflix.ipynb",
      "provenance": [],
      "authorship_tag": "ABX9TyPsBVGhq1yBzoLjWI6KYCV/",
      "include_colab_link": true
    },
    "kernelspec": {
      "name": "python3",
      "display_name": "Python 3"
    },
    "language_info": {
      "name": "python"
    }
  },
  "cells": [
    {
      "cell_type": "markdown",
      "metadata": {
        "id": "view-in-github",
        "colab_type": "text"
      },
      "source": [
        "<a href=\"https://colab.research.google.com/github/YuriQuisbert/Netflix/blob/main/Netflix.ipynb\" target=\"_parent\"><img src=\"https://colab.research.google.com/assets/colab-badge.svg\" alt=\"Open In Colab\"/></a>"
      ]
    },
    {
      "cell_type": "markdown",
      "source": [
        "*desenvolvido por:*\n",
        "\n",
        "\n",
        "<img alt=\"Colaboratory logo\" width=\"25%\" src=\"https://github.com/YuriQuisbert/pessoal/blob/main/Yuri%20Quisbert..png?raw=true\">\n",
        "\n",
        "---\n",
        "🚀 [*yuriquisbert.com.br*](yuriquisbert.com.br)\n",
        "\n",
        "---\n"
      ],
      "metadata": {
        "id": "0fIGhMp91slT"
      }
    },
    {
      "cell_type": "code",
      "execution_count": null,
      "metadata": {
        "id": "f-v3qzHygX89"
      },
      "outputs": [],
      "source": [
        "import pandas as pd\n",
        "import matplotlib.pyplot as plt\n",
        "import seaborn as sns"
      ]
    },
    {
      "cell_type": "code",
      "source": [
        "titulos = pd.read_csv('https://raw.githubusercontent.com/YuriQuisbert/DataBases/main/titles.csv')"
      ],
      "metadata": {
        "id": "9iKazrO8gn-3"
      },
      "execution_count": null,
      "outputs": []
    },
    {
      "cell_type": "code",
      "source": [
        "titulos = titulos.drop(columns = ['id','description', 'imdb_id'])"
      ],
      "metadata": {
        "id": "gmjSSWQ-ksLs"
      },
      "execution_count": null,
      "outputs": []
    },
    {
      "cell_type": "code",
      "source": [
        "colunas = ['titulo', 'tipo','ano_producao', 'idade_recomendada', 'duracao', 'generos', 'pais_producao', 'temporadas', 'nota_imdb', 'votos_imdb', 'popularidade_tmdb', 'nota_tmdb']\n",
        "\n",
        "titulos.columns = colunas"
      ],
      "metadata": {
        "id": "t3B6hR0hk9O6"
      },
      "execution_count": null,
      "outputs": []
    },
    {
      "cell_type": "code",
      "source": [
        "titulos.head()"
      ],
      "metadata": {
        "colab": {
          "base_uri": "https://localhost:8080/",
          "height": 389
        },
        "id": "pwbdMes3gxmL",
        "outputId": "143b86d4-a954-4ee1-fda7-cbf018ba7b70"
      },
      "execution_count": null,
      "outputs": [
        {
          "output_type": "execute_result",
          "data": {
            "text/plain": [
              "                                titulo   tipo  ano_producao idade_recomendada  \\\n",
              "0  Five Came Back: The Reference Films   SHOW          1945             TV-MA   \n",
              "1                          Taxi Driver  MOVIE          1976                 R   \n",
              "2                          Deliverance  MOVIE          1972                 R   \n",
              "3      Monty Python and the Holy Grail  MOVIE          1975                PG   \n",
              "4                      The Dirty Dozen  MOVIE          1967               NaN   \n",
              "\n",
              "   duracao                                      generos pais_producao  \\\n",
              "0       51                            ['documentation']        ['US']   \n",
              "1      114                           ['drama', 'crime']        ['US']   \n",
              "2      109  ['drama', 'action', 'thriller', 'european']        ['US']   \n",
              "3       91              ['fantasy', 'action', 'comedy']        ['GB']   \n",
              "4      150                            ['war', 'action']  ['GB', 'US']   \n",
              "\n",
              "   temporadas  nota_imdb  votos_imdb  popularidade_tmdb  nota_tmdb  \n",
              "0         1.0        NaN         NaN              0.600        NaN  \n",
              "1         NaN        8.2    808582.0             40.965      8.179  \n",
              "2         NaN        7.7    107673.0             10.010      7.300  \n",
              "3         NaN        8.2    534486.0             15.461      7.811  \n",
              "4         NaN        7.7     72662.0             20.398      7.600  "
            ],
            "text/html": [
              "\n",
              "  <div id=\"df-08d67a86-e9d6-4a01-ae12-7c225b032da0\">\n",
              "    <div class=\"colab-df-container\">\n",
              "      <div>\n",
              "<style scoped>\n",
              "    .dataframe tbody tr th:only-of-type {\n",
              "        vertical-align: middle;\n",
              "    }\n",
              "\n",
              "    .dataframe tbody tr th {\n",
              "        vertical-align: top;\n",
              "    }\n",
              "\n",
              "    .dataframe thead th {\n",
              "        text-align: right;\n",
              "    }\n",
              "</style>\n",
              "<table border=\"1\" class=\"dataframe\">\n",
              "  <thead>\n",
              "    <tr style=\"text-align: right;\">\n",
              "      <th></th>\n",
              "      <th>titulo</th>\n",
              "      <th>tipo</th>\n",
              "      <th>ano_producao</th>\n",
              "      <th>idade_recomendada</th>\n",
              "      <th>duracao</th>\n",
              "      <th>generos</th>\n",
              "      <th>pais_producao</th>\n",
              "      <th>temporadas</th>\n",
              "      <th>nota_imdb</th>\n",
              "      <th>votos_imdb</th>\n",
              "      <th>popularidade_tmdb</th>\n",
              "      <th>nota_tmdb</th>\n",
              "    </tr>\n",
              "  </thead>\n",
              "  <tbody>\n",
              "    <tr>\n",
              "      <th>0</th>\n",
              "      <td>Five Came Back: The Reference Films</td>\n",
              "      <td>SHOW</td>\n",
              "      <td>1945</td>\n",
              "      <td>TV-MA</td>\n",
              "      <td>51</td>\n",
              "      <td>['documentation']</td>\n",
              "      <td>['US']</td>\n",
              "      <td>1.0</td>\n",
              "      <td>NaN</td>\n",
              "      <td>NaN</td>\n",
              "      <td>0.600</td>\n",
              "      <td>NaN</td>\n",
              "    </tr>\n",
              "    <tr>\n",
              "      <th>1</th>\n",
              "      <td>Taxi Driver</td>\n",
              "      <td>MOVIE</td>\n",
              "      <td>1976</td>\n",
              "      <td>R</td>\n",
              "      <td>114</td>\n",
              "      <td>['drama', 'crime']</td>\n",
              "      <td>['US']</td>\n",
              "      <td>NaN</td>\n",
              "      <td>8.2</td>\n",
              "      <td>808582.0</td>\n",
              "      <td>40.965</td>\n",
              "      <td>8.179</td>\n",
              "    </tr>\n",
              "    <tr>\n",
              "      <th>2</th>\n",
              "      <td>Deliverance</td>\n",
              "      <td>MOVIE</td>\n",
              "      <td>1972</td>\n",
              "      <td>R</td>\n",
              "      <td>109</td>\n",
              "      <td>['drama', 'action', 'thriller', 'european']</td>\n",
              "      <td>['US']</td>\n",
              "      <td>NaN</td>\n",
              "      <td>7.7</td>\n",
              "      <td>107673.0</td>\n",
              "      <td>10.010</td>\n",
              "      <td>7.300</td>\n",
              "    </tr>\n",
              "    <tr>\n",
              "      <th>3</th>\n",
              "      <td>Monty Python and the Holy Grail</td>\n",
              "      <td>MOVIE</td>\n",
              "      <td>1975</td>\n",
              "      <td>PG</td>\n",
              "      <td>91</td>\n",
              "      <td>['fantasy', 'action', 'comedy']</td>\n",
              "      <td>['GB']</td>\n",
              "      <td>NaN</td>\n",
              "      <td>8.2</td>\n",
              "      <td>534486.0</td>\n",
              "      <td>15.461</td>\n",
              "      <td>7.811</td>\n",
              "    </tr>\n",
              "    <tr>\n",
              "      <th>4</th>\n",
              "      <td>The Dirty Dozen</td>\n",
              "      <td>MOVIE</td>\n",
              "      <td>1967</td>\n",
              "      <td>NaN</td>\n",
              "      <td>150</td>\n",
              "      <td>['war', 'action']</td>\n",
              "      <td>['GB', 'US']</td>\n",
              "      <td>NaN</td>\n",
              "      <td>7.7</td>\n",
              "      <td>72662.0</td>\n",
              "      <td>20.398</td>\n",
              "      <td>7.600</td>\n",
              "    </tr>\n",
              "  </tbody>\n",
              "</table>\n",
              "</div>\n",
              "      <button class=\"colab-df-convert\" onclick=\"convertToInteractive('df-08d67a86-e9d6-4a01-ae12-7c225b032da0')\"\n",
              "              title=\"Convert this dataframe to an interactive table.\"\n",
              "              style=\"display:none;\">\n",
              "        \n",
              "  <svg xmlns=\"http://www.w3.org/2000/svg\" height=\"24px\"viewBox=\"0 0 24 24\"\n",
              "       width=\"24px\">\n",
              "    <path d=\"M0 0h24v24H0V0z\" fill=\"none\"/>\n",
              "    <path d=\"M18.56 5.44l.94 2.06.94-2.06 2.06-.94-2.06-.94-.94-2.06-.94 2.06-2.06.94zm-11 1L8.5 8.5l.94-2.06 2.06-.94-2.06-.94L8.5 2.5l-.94 2.06-2.06.94zm10 10l.94 2.06.94-2.06 2.06-.94-2.06-.94-.94-2.06-.94 2.06-2.06.94z\"/><path d=\"M17.41 7.96l-1.37-1.37c-.4-.4-.92-.59-1.43-.59-.52 0-1.04.2-1.43.59L10.3 9.45l-7.72 7.72c-.78.78-.78 2.05 0 2.83L4 21.41c.39.39.9.59 1.41.59.51 0 1.02-.2 1.41-.59l7.78-7.78 2.81-2.81c.8-.78.8-2.07 0-2.86zM5.41 20L4 18.59l7.72-7.72 1.47 1.35L5.41 20z\"/>\n",
              "  </svg>\n",
              "      </button>\n",
              "      \n",
              "  <style>\n",
              "    .colab-df-container {\n",
              "      display:flex;\n",
              "      flex-wrap:wrap;\n",
              "      gap: 12px;\n",
              "    }\n",
              "\n",
              "    .colab-df-convert {\n",
              "      background-color: #E8F0FE;\n",
              "      border: none;\n",
              "      border-radius: 50%;\n",
              "      cursor: pointer;\n",
              "      display: none;\n",
              "      fill: #1967D2;\n",
              "      height: 32px;\n",
              "      padding: 0 0 0 0;\n",
              "      width: 32px;\n",
              "    }\n",
              "\n",
              "    .colab-df-convert:hover {\n",
              "      background-color: #E2EBFA;\n",
              "      box-shadow: 0px 1px 2px rgba(60, 64, 67, 0.3), 0px 1px 3px 1px rgba(60, 64, 67, 0.15);\n",
              "      fill: #174EA6;\n",
              "    }\n",
              "\n",
              "    [theme=dark] .colab-df-convert {\n",
              "      background-color: #3B4455;\n",
              "      fill: #D2E3FC;\n",
              "    }\n",
              "\n",
              "    [theme=dark] .colab-df-convert:hover {\n",
              "      background-color: #434B5C;\n",
              "      box-shadow: 0px 1px 3px 1px rgba(0, 0, 0, 0.15);\n",
              "      filter: drop-shadow(0px 1px 2px rgba(0, 0, 0, 0.3));\n",
              "      fill: #FFFFFF;\n",
              "    }\n",
              "  </style>\n",
              "\n",
              "      <script>\n",
              "        const buttonEl =\n",
              "          document.querySelector('#df-08d67a86-e9d6-4a01-ae12-7c225b032da0 button.colab-df-convert');\n",
              "        buttonEl.style.display =\n",
              "          google.colab.kernel.accessAllowed ? 'block' : 'none';\n",
              "\n",
              "        async function convertToInteractive(key) {\n",
              "          const element = document.querySelector('#df-08d67a86-e9d6-4a01-ae12-7c225b032da0');\n",
              "          const dataTable =\n",
              "            await google.colab.kernel.invokeFunction('convertToInteractive',\n",
              "                                                     [key], {});\n",
              "          if (!dataTable) return;\n",
              "\n",
              "          const docLinkHtml = 'Like what you see? Visit the ' +\n",
              "            '<a target=\"_blank\" href=https://colab.research.google.com/notebooks/data_table.ipynb>data table notebook</a>'\n",
              "            + ' to learn more about interactive tables.';\n",
              "          element.innerHTML = '';\n",
              "          dataTable['output_type'] = 'display_data';\n",
              "          await google.colab.output.renderOutput(dataTable, element);\n",
              "          const docLink = document.createElement('div');\n",
              "          docLink.innerHTML = docLinkHtml;\n",
              "          element.appendChild(docLink);\n",
              "        }\n",
              "      </script>\n",
              "    </div>\n",
              "  </div>\n",
              "  "
            ]
          },
          "metadata": {},
          "execution_count": 6
        }
      ]
    },
    {
      "cell_type": "code",
      "source": [
        "titulos.isnull().sum()"
      ],
      "metadata": {
        "colab": {
          "base_uri": "https://localhost:8080/"
        },
        "id": "jzrWwYPHBmbl",
        "outputId": "660c3eae-7dbd-43cd-8b43-dbc5f004a5cb"
      },
      "execution_count": null,
      "outputs": [
        {
          "output_type": "execute_result",
          "data": {
            "text/plain": [
              "titulo                  1\n",
              "tipo                    0\n",
              "ano_producao            0\n",
              "idade_recomendada    2619\n",
              "duracao                 0\n",
              "generos                 0\n",
              "pais_producao           0\n",
              "temporadas           3744\n",
              "nota_imdb             482\n",
              "votos_imdb            498\n",
              "popularidade_tmdb      91\n",
              "nota_tmdb             311\n",
              "dtype: int64"
            ]
          },
          "metadata": {},
          "execution_count": 7
        }
      ]
    },
    {
      "cell_type": "code",
      "source": [
        "titulos = titulos.fillna({'idade_recomendada':'Não Definido', 'temporadas': 0, 'nota_imdb': -1, 'votos_imdb': -1, 'popularidade_tmdb': -1, 'nota_tmdb': -1})"
      ],
      "metadata": {
        "id": "IsUkpgwJBLrB"
      },
      "execution_count": null,
      "outputs": []
    },
    {
      "cell_type": "code",
      "source": [
        "titulos.isnull().sum()"
      ],
      "metadata": {
        "colab": {
          "base_uri": "https://localhost:8080/"
        },
        "id": "LLv6_dYnCvA2",
        "outputId": "d39ab6ae-7ce8-458d-d9a9-f1cebe83c3f9"
      },
      "execution_count": null,
      "outputs": [
        {
          "output_type": "execute_result",
          "data": {
            "text/plain": [
              "titulo               1\n",
              "tipo                 0\n",
              "ano_producao         0\n",
              "idade_recomendada    0\n",
              "duracao              0\n",
              "generos              0\n",
              "pais_producao        0\n",
              "temporadas           0\n",
              "nota_imdb            0\n",
              "votos_imdb           0\n",
              "popularidade_tmdb    0\n",
              "nota_tmdb            0\n",
              "dtype: int64"
            ]
          },
          "metadata": {},
          "execution_count": 9
        }
      ]
    },
    {
      "cell_type": "code",
      "source": [
        "titulos = titulos.dropna(subset = ['titulo'], axis = 0)"
      ],
      "metadata": {
        "id": "WfDVo8wsq6AZ"
      },
      "execution_count": null,
      "outputs": []
    },
    {
      "cell_type": "code",
      "source": [
        "titulos.idade_recomendada.unique()"
      ],
      "metadata": {
        "colab": {
          "base_uri": "https://localhost:8080/"
        },
        "id": "KFly5KKK67YG",
        "outputId": "86a60ef7-5b78-4078-f1fb-da8a67c041f3"
      },
      "execution_count": null,
      "outputs": [
        {
          "output_type": "execute_result",
          "data": {
            "text/plain": [
              "array(['TV-MA', 'R', 'PG', 'Não Definido', 'TV-14', 'PG-13', 'TV-PG',\n",
              "       'TV-Y', 'TV-G', 'TV-Y7', 'G', 'NC-17'], dtype=object)"
            ]
          },
          "metadata": {},
          "execution_count": 11
        }
      ]
    },
    {
      "cell_type": "markdown",
      "source": [
        "* `G` - Livre\n",
        "* `TV-G` - Livre\n",
        "* `TV-Y` - Infantil\n",
        "* `TV-PG` - Proibido para menores de 10 anos\n",
        "* `TV-Y7` - Proibido para menores de 10 anos\n",
        "* `PG` - Proibido para menores de 10 anos\n",
        "* `TV-14` - Proibido para menores de 14 anos\n",
        "* `PG-13` - Proibido para menores de 14 anos\n",
        "* `TV-MA` - Proibido para menores de 18 anos\n",
        "* `R` - Proibido para menores de 18 anos\n",
        "* `NC-17` - Proibido para menores de 18 anos\n",
        "---\n",
        "* `L` - Livre \n",
        "* `Infantil` - Infantil\n",
        "* `+10` - Proibido para menores de 10 anos\n",
        "* `+14` - Proibido para menores de 14 anos\n",
        "* `+18` - Proibido para menores de 18 anos\n",
        "\n",
        "\n",
        "\n",
        "\n",
        "\n",
        "\n",
        "\n",
        "\n",
        "\n"
      ],
      "metadata": {
        "id": "1WKzR0Ii7xyt"
      }
    },
    {
      "cell_type": "code",
      "source": [
        "titulos['idade_recomendada'] = titulos.idade_recomendada.map({'TV-MA':'+18',\n",
        "                                                              'R':'+18',\n",
        "                                                              'PG':'+10',\n",
        "                                                              'TV-14':'+14',\n",
        "                                                              'PG-13':'+14',\n",
        "                                                              'TV-PG':'+10',\n",
        "                                                              'TV-Y':'Infantil',\n",
        "                                                              'TV-G':'Livre',\n",
        "                                                              'TV-Y7':'+10',\n",
        "                                                              'G':'Livre',\n",
        "                                                              'NC-17':'+18',\n",
        "                                                              'Não Definido':'Não Definido'})"
      ],
      "metadata": {
        "id": "UDCQFTXI_RC9"
      },
      "execution_count": null,
      "outputs": []
    },
    {
      "cell_type": "code",
      "source": [
        "lista = []\n",
        "contador = []\n",
        "\n",
        "for i in titulos.pais_producao:\n",
        "  i = i.replace('[','')\n",
        "  i = i.replace(']','')\n",
        "  i = i.replace(\"'\", \"\")\n",
        "  i = i.split(', ')\n",
        "  lista.append(i)\n",
        "\n",
        "titulos['pais_producao'] = lista"
      ],
      "metadata": {
        "id": "WN6uHkC-bxYi"
      },
      "execution_count": null,
      "outputs": []
    },
    {
      "cell_type": "code",
      "source": [
        "lista = []\n",
        "contador = []\n",
        "\n",
        "for i in titulos.generos:\n",
        "  i = i.replace('[','')\n",
        "  i = i.replace(']','')\n",
        "  i = i.replace(\"'\", \"\")\n",
        "  i = i.split(', ')\n",
        "  lista.append(i)\n",
        "\n",
        "titulos['generos'] = lista"
      ],
      "metadata": {
        "id": "vu-KkFPD3w5N"
      },
      "execution_count": null,
      "outputs": []
    },
    {
      "cell_type": "code",
      "source": [
        "paises = []\n",
        "\n",
        "for i in titulos.pais_producao:\n",
        "  for n in i:\n",
        "    paises.append(n)"
      ],
      "metadata": {
        "id": "1VvTuB9N3tlG"
      },
      "execution_count": null,
      "outputs": []
    },
    {
      "cell_type": "code",
      "source": [
        "generos = []\n",
        "\n",
        "for i in titulos.generos:\n",
        "  for n in i:\n",
        "    generos.append(n)"
      ],
      "metadata": {
        "id": "cgwXsInt3wzZ"
      },
      "execution_count": null,
      "outputs": []
    },
    {
      "cell_type": "code",
      "source": [
        "paises = pd.DataFrame(paises)\n"
      ],
      "metadata": {
        "id": "22y0EdDFdDpI"
      },
      "execution_count": null,
      "outputs": []
    },
    {
      "cell_type": "code",
      "source": [
        "generos = pd.DataFrame(generos)"
      ],
      "metadata": {
        "id": "hjj8-AXm3wob"
      },
      "execution_count": null,
      "outputs": []
    },
    {
      "cell_type": "code",
      "source": [
        "titulos"
      ],
      "metadata": {
        "colab": {
          "base_uri": "https://localhost:8080/",
          "height": 731
        },
        "id": "V40Yeoe1Cgul",
        "outputId": "7fdf6324-f673-44be-fd60-e8e71b50a102"
      },
      "execution_count": null,
      "outputs": [
        {
          "output_type": "execute_result",
          "data": {
            "text/plain": [
              "                                         titulo   tipo  ano_producao  \\\n",
              "0           Five Came Back: The Reference Films   SHOW          1945   \n",
              "1                                   Taxi Driver  MOVIE          1976   \n",
              "2                                   Deliverance  MOVIE          1972   \n",
              "3               Monty Python and the Holy Grail  MOVIE          1975   \n",
              "4                               The Dirty Dozen  MOVIE          1967   \n",
              "...                                         ...    ...           ...   \n",
              "5845                                  Fine Wine  MOVIE          2021   \n",
              "5846                                C/O Kaadhal  MOVIE          2021   \n",
              "5847                                    Lokillo  MOVIE          2021   \n",
              "5848  Dad Stop Embarrassing Me - The Afterparty  MOVIE          2021   \n",
              "5849         Mighty Little Bheem: Kite Festival   SHOW          2021   \n",
              "\n",
              "     idade_recomendada  duracao                              generos  \\\n",
              "0                  +18       51                      [documentation]   \n",
              "1                  +18      114                       [drama, crime]   \n",
              "2                  +18      109  [drama, action, thriller, european]   \n",
              "3                  +10       91            [fantasy, action, comedy]   \n",
              "4         Não Definido      150                        [war, action]   \n",
              "...                ...      ...                                  ...   \n",
              "5845      Não Definido      100                     [romance, drama]   \n",
              "5846      Não Definido      134                              [drama]   \n",
              "5847      Não Definido       90                             [comedy]   \n",
              "5848               +14       37                                   []   \n",
              "5849      Não Definido        7          [family, animation, comedy]   \n",
              "\n",
              "     pais_producao  temporadas  nota_imdb  votos_imdb  popularidade_tmdb  \\\n",
              "0             [US]         1.0       -1.0        -1.0              0.600   \n",
              "1             [US]         0.0        8.2    808582.0             40.965   \n",
              "2             [US]         0.0        7.7    107673.0             10.010   \n",
              "3             [GB]         0.0        8.2    534486.0             15.461   \n",
              "4         [GB, US]         0.0        7.7     72662.0             20.398   \n",
              "...            ...         ...        ...         ...                ...   \n",
              "5845          [NG]         0.0        6.8        45.0              1.466   \n",
              "5846            []         0.0        7.7       348.0             -1.000   \n",
              "5847          [CO]         0.0        3.8        68.0             26.005   \n",
              "5848          [US]         0.0       -1.0        -1.0              1.296   \n",
              "5849            []         1.0        7.8        18.0              2.289   \n",
              "\n",
              "      nota_tmdb  \n",
              "0        -1.000  \n",
              "1         8.179  \n",
              "2         7.300  \n",
              "3         7.811  \n",
              "4         7.600  \n",
              "...         ...  \n",
              "5845     -1.000  \n",
              "5846     -1.000  \n",
              "5847      6.300  \n",
              "5848     10.000  \n",
              "5849     10.000  \n",
              "\n",
              "[5849 rows x 12 columns]"
            ],
            "text/html": [
              "\n",
              "  <div id=\"df-9ee014d7-f664-413e-a3e0-6ba2daf51f35\">\n",
              "    <div class=\"colab-df-container\">\n",
              "      <div>\n",
              "<style scoped>\n",
              "    .dataframe tbody tr th:only-of-type {\n",
              "        vertical-align: middle;\n",
              "    }\n",
              "\n",
              "    .dataframe tbody tr th {\n",
              "        vertical-align: top;\n",
              "    }\n",
              "\n",
              "    .dataframe thead th {\n",
              "        text-align: right;\n",
              "    }\n",
              "</style>\n",
              "<table border=\"1\" class=\"dataframe\">\n",
              "  <thead>\n",
              "    <tr style=\"text-align: right;\">\n",
              "      <th></th>\n",
              "      <th>titulo</th>\n",
              "      <th>tipo</th>\n",
              "      <th>ano_producao</th>\n",
              "      <th>idade_recomendada</th>\n",
              "      <th>duracao</th>\n",
              "      <th>generos</th>\n",
              "      <th>pais_producao</th>\n",
              "      <th>temporadas</th>\n",
              "      <th>nota_imdb</th>\n",
              "      <th>votos_imdb</th>\n",
              "      <th>popularidade_tmdb</th>\n",
              "      <th>nota_tmdb</th>\n",
              "    </tr>\n",
              "  </thead>\n",
              "  <tbody>\n",
              "    <tr>\n",
              "      <th>0</th>\n",
              "      <td>Five Came Back: The Reference Films</td>\n",
              "      <td>SHOW</td>\n",
              "      <td>1945</td>\n",
              "      <td>+18</td>\n",
              "      <td>51</td>\n",
              "      <td>[documentation]</td>\n",
              "      <td>[US]</td>\n",
              "      <td>1.0</td>\n",
              "      <td>-1.0</td>\n",
              "      <td>-1.0</td>\n",
              "      <td>0.600</td>\n",
              "      <td>-1.000</td>\n",
              "    </tr>\n",
              "    <tr>\n",
              "      <th>1</th>\n",
              "      <td>Taxi Driver</td>\n",
              "      <td>MOVIE</td>\n",
              "      <td>1976</td>\n",
              "      <td>+18</td>\n",
              "      <td>114</td>\n",
              "      <td>[drama, crime]</td>\n",
              "      <td>[US]</td>\n",
              "      <td>0.0</td>\n",
              "      <td>8.2</td>\n",
              "      <td>808582.0</td>\n",
              "      <td>40.965</td>\n",
              "      <td>8.179</td>\n",
              "    </tr>\n",
              "    <tr>\n",
              "      <th>2</th>\n",
              "      <td>Deliverance</td>\n",
              "      <td>MOVIE</td>\n",
              "      <td>1972</td>\n",
              "      <td>+18</td>\n",
              "      <td>109</td>\n",
              "      <td>[drama, action, thriller, european]</td>\n",
              "      <td>[US]</td>\n",
              "      <td>0.0</td>\n",
              "      <td>7.7</td>\n",
              "      <td>107673.0</td>\n",
              "      <td>10.010</td>\n",
              "      <td>7.300</td>\n",
              "    </tr>\n",
              "    <tr>\n",
              "      <th>3</th>\n",
              "      <td>Monty Python and the Holy Grail</td>\n",
              "      <td>MOVIE</td>\n",
              "      <td>1975</td>\n",
              "      <td>+10</td>\n",
              "      <td>91</td>\n",
              "      <td>[fantasy, action, comedy]</td>\n",
              "      <td>[GB]</td>\n",
              "      <td>0.0</td>\n",
              "      <td>8.2</td>\n",
              "      <td>534486.0</td>\n",
              "      <td>15.461</td>\n",
              "      <td>7.811</td>\n",
              "    </tr>\n",
              "    <tr>\n",
              "      <th>4</th>\n",
              "      <td>The Dirty Dozen</td>\n",
              "      <td>MOVIE</td>\n",
              "      <td>1967</td>\n",
              "      <td>Não Definido</td>\n",
              "      <td>150</td>\n",
              "      <td>[war, action]</td>\n",
              "      <td>[GB, US]</td>\n",
              "      <td>0.0</td>\n",
              "      <td>7.7</td>\n",
              "      <td>72662.0</td>\n",
              "      <td>20.398</td>\n",
              "      <td>7.600</td>\n",
              "    </tr>\n",
              "    <tr>\n",
              "      <th>...</th>\n",
              "      <td>...</td>\n",
              "      <td>...</td>\n",
              "      <td>...</td>\n",
              "      <td>...</td>\n",
              "      <td>...</td>\n",
              "      <td>...</td>\n",
              "      <td>...</td>\n",
              "      <td>...</td>\n",
              "      <td>...</td>\n",
              "      <td>...</td>\n",
              "      <td>...</td>\n",
              "      <td>...</td>\n",
              "    </tr>\n",
              "    <tr>\n",
              "      <th>5845</th>\n",
              "      <td>Fine Wine</td>\n",
              "      <td>MOVIE</td>\n",
              "      <td>2021</td>\n",
              "      <td>Não Definido</td>\n",
              "      <td>100</td>\n",
              "      <td>[romance, drama]</td>\n",
              "      <td>[NG]</td>\n",
              "      <td>0.0</td>\n",
              "      <td>6.8</td>\n",
              "      <td>45.0</td>\n",
              "      <td>1.466</td>\n",
              "      <td>-1.000</td>\n",
              "    </tr>\n",
              "    <tr>\n",
              "      <th>5846</th>\n",
              "      <td>C/O Kaadhal</td>\n",
              "      <td>MOVIE</td>\n",
              "      <td>2021</td>\n",
              "      <td>Não Definido</td>\n",
              "      <td>134</td>\n",
              "      <td>[drama]</td>\n",
              "      <td>[]</td>\n",
              "      <td>0.0</td>\n",
              "      <td>7.7</td>\n",
              "      <td>348.0</td>\n",
              "      <td>-1.000</td>\n",
              "      <td>-1.000</td>\n",
              "    </tr>\n",
              "    <tr>\n",
              "      <th>5847</th>\n",
              "      <td>Lokillo</td>\n",
              "      <td>MOVIE</td>\n",
              "      <td>2021</td>\n",
              "      <td>Não Definido</td>\n",
              "      <td>90</td>\n",
              "      <td>[comedy]</td>\n",
              "      <td>[CO]</td>\n",
              "      <td>0.0</td>\n",
              "      <td>3.8</td>\n",
              "      <td>68.0</td>\n",
              "      <td>26.005</td>\n",
              "      <td>6.300</td>\n",
              "    </tr>\n",
              "    <tr>\n",
              "      <th>5848</th>\n",
              "      <td>Dad Stop Embarrassing Me - The Afterparty</td>\n",
              "      <td>MOVIE</td>\n",
              "      <td>2021</td>\n",
              "      <td>+14</td>\n",
              "      <td>37</td>\n",
              "      <td>[]</td>\n",
              "      <td>[US]</td>\n",
              "      <td>0.0</td>\n",
              "      <td>-1.0</td>\n",
              "      <td>-1.0</td>\n",
              "      <td>1.296</td>\n",
              "      <td>10.000</td>\n",
              "    </tr>\n",
              "    <tr>\n",
              "      <th>5849</th>\n",
              "      <td>Mighty Little Bheem: Kite Festival</td>\n",
              "      <td>SHOW</td>\n",
              "      <td>2021</td>\n",
              "      <td>Não Definido</td>\n",
              "      <td>7</td>\n",
              "      <td>[family, animation, comedy]</td>\n",
              "      <td>[]</td>\n",
              "      <td>1.0</td>\n",
              "      <td>7.8</td>\n",
              "      <td>18.0</td>\n",
              "      <td>2.289</td>\n",
              "      <td>10.000</td>\n",
              "    </tr>\n",
              "  </tbody>\n",
              "</table>\n",
              "<p>5849 rows × 12 columns</p>\n",
              "</div>\n",
              "      <button class=\"colab-df-convert\" onclick=\"convertToInteractive('df-9ee014d7-f664-413e-a3e0-6ba2daf51f35')\"\n",
              "              title=\"Convert this dataframe to an interactive table.\"\n",
              "              style=\"display:none;\">\n",
              "        \n",
              "  <svg xmlns=\"http://www.w3.org/2000/svg\" height=\"24px\"viewBox=\"0 0 24 24\"\n",
              "       width=\"24px\">\n",
              "    <path d=\"M0 0h24v24H0V0z\" fill=\"none\"/>\n",
              "    <path d=\"M18.56 5.44l.94 2.06.94-2.06 2.06-.94-2.06-.94-.94-2.06-.94 2.06-2.06.94zm-11 1L8.5 8.5l.94-2.06 2.06-.94-2.06-.94L8.5 2.5l-.94 2.06-2.06.94zm10 10l.94 2.06.94-2.06 2.06-.94-2.06-.94-.94-2.06-.94 2.06-2.06.94z\"/><path d=\"M17.41 7.96l-1.37-1.37c-.4-.4-.92-.59-1.43-.59-.52 0-1.04.2-1.43.59L10.3 9.45l-7.72 7.72c-.78.78-.78 2.05 0 2.83L4 21.41c.39.39.9.59 1.41.59.51 0 1.02-.2 1.41-.59l7.78-7.78 2.81-2.81c.8-.78.8-2.07 0-2.86zM5.41 20L4 18.59l7.72-7.72 1.47 1.35L5.41 20z\"/>\n",
              "  </svg>\n",
              "      </button>\n",
              "      \n",
              "  <style>\n",
              "    .colab-df-container {\n",
              "      display:flex;\n",
              "      flex-wrap:wrap;\n",
              "      gap: 12px;\n",
              "    }\n",
              "\n",
              "    .colab-df-convert {\n",
              "      background-color: #E8F0FE;\n",
              "      border: none;\n",
              "      border-radius: 50%;\n",
              "      cursor: pointer;\n",
              "      display: none;\n",
              "      fill: #1967D2;\n",
              "      height: 32px;\n",
              "      padding: 0 0 0 0;\n",
              "      width: 32px;\n",
              "    }\n",
              "\n",
              "    .colab-df-convert:hover {\n",
              "      background-color: #E2EBFA;\n",
              "      box-shadow: 0px 1px 2px rgba(60, 64, 67, 0.3), 0px 1px 3px 1px rgba(60, 64, 67, 0.15);\n",
              "      fill: #174EA6;\n",
              "    }\n",
              "\n",
              "    [theme=dark] .colab-df-convert {\n",
              "      background-color: #3B4455;\n",
              "      fill: #D2E3FC;\n",
              "    }\n",
              "\n",
              "    [theme=dark] .colab-df-convert:hover {\n",
              "      background-color: #434B5C;\n",
              "      box-shadow: 0px 1px 3px 1px rgba(0, 0, 0, 0.15);\n",
              "      filter: drop-shadow(0px 1px 2px rgba(0, 0, 0, 0.3));\n",
              "      fill: #FFFFFF;\n",
              "    }\n",
              "  </style>\n",
              "\n",
              "      <script>\n",
              "        const buttonEl =\n",
              "          document.querySelector('#df-9ee014d7-f664-413e-a3e0-6ba2daf51f35 button.colab-df-convert');\n",
              "        buttonEl.style.display =\n",
              "          google.colab.kernel.accessAllowed ? 'block' : 'none';\n",
              "\n",
              "        async function convertToInteractive(key) {\n",
              "          const element = document.querySelector('#df-9ee014d7-f664-413e-a3e0-6ba2daf51f35');\n",
              "          const dataTable =\n",
              "            await google.colab.kernel.invokeFunction('convertToInteractive',\n",
              "                                                     [key], {});\n",
              "          if (!dataTable) return;\n",
              "\n",
              "          const docLinkHtml = 'Like what you see? Visit the ' +\n",
              "            '<a target=\"_blank\" href=https://colab.research.google.com/notebooks/data_table.ipynb>data table notebook</a>'\n",
              "            + ' to learn more about interactive tables.';\n",
              "          element.innerHTML = '';\n",
              "          dataTable['output_type'] = 'display_data';\n",
              "          await google.colab.output.renderOutput(dataTable, element);\n",
              "          const docLink = document.createElement('div');\n",
              "          docLink.innerHTML = docLinkHtml;\n",
              "          element.appendChild(docLink);\n",
              "        }\n",
              "      </script>\n",
              "    </div>\n",
              "  </div>\n",
              "  "
            ]
          },
          "metadata": {},
          "execution_count": 19
        }
      ]
    },
    {
      "cell_type": "code",
      "source": [
        "titulos.idade_recomendada.value_counts()"
      ],
      "metadata": {
        "colab": {
          "base_uri": "https://localhost:8080/"
        },
        "id": "mgQcR3ILDlIc",
        "outputId": "9911fd3d-2d5d-41b4-dbad-93a1aad9ec46"
      },
      "execution_count": null,
      "outputs": [
        {
          "output_type": "execute_result",
          "data": {
            "text/plain": [
              "Não Definido    2618\n",
              "+18             1455\n",
              "+14              925\n",
              "+10              541\n",
              "Livre            203\n",
              "Infantil         107\n",
              "Name: idade_recomendada, dtype: int64"
            ]
          },
          "metadata": {},
          "execution_count": 20
        }
      ]
    },
    {
      "cell_type": "code",
      "source": [
        "titulos.temporadas.value_counts().head(10)"
      ],
      "metadata": {
        "colab": {
          "base_uri": "https://localhost:8080/"
        },
        "id": "n2VSUKLzDwgk",
        "outputId": "12a45f88-c72c-4936-8cbd-b7f13057f5d1"
      },
      "execution_count": null,
      "outputs": [
        {
          "output_type": "execute_result",
          "data": {
            "text/plain": [
              "0.0    3743\n",
              "1.0    1221\n",
              "2.0     389\n",
              "3.0     187\n",
              "4.0     120\n",
              "5.0      79\n",
              "6.0      36\n",
              "7.0      18\n",
              "8.0      11\n",
              "9.0       9\n",
              "Name: temporadas, dtype: int64"
            ]
          },
          "metadata": {},
          "execution_count": 21
        }
      ]
    },
    {
      "cell_type": "code",
      "source": [
        "fig, ax = plt.subplots(figsize=(8,6))\n",
        "\n",
        "pd.DataFrame(paises.value_counts()).head(5).plot(y=0, kind=\"bar\", ax=ax)\n",
        "\n",
        "plt.tight_layout()"
      ],
      "metadata": {
        "colab": {
          "base_uri": "https://localhost:8080/",
          "height": 441
        },
        "id": "bVY7T9GOxA1D",
        "outputId": "699a6b98-66ea-4792-e43f-d2c51e8a162b"
      },
      "execution_count": null,
      "outputs": [
        {
          "output_type": "display_data",
          "data": {
            "text/plain": [
              "<Figure size 576x432 with 1 Axes>"
            ],
            "image/png": "[encoded data removed]"
          },
          "metadata": {
            "needs_background": "light"
          }
        }
      ]
    },
    {
      "cell_type": "code",
      "source": [
        "fig, ax = plt.subplots(figsize=(8,6))\n",
        "pd.DataFrame(titulos.idade_recomendada.value_counts()).plot(y=0, kind=\"bar\", ax=ax)\n",
        "plt.show()"
      ],
      "metadata": {
        "colab": {
          "base_uri": "https://localhost:8080/",
          "height": 429
        },
        "id": "OjYKwDUUxnFz",
        "outputId": "92368378-f44f-4ad6-fe05-7beef60c2427"
      },
      "execution_count": null,
      "outputs": [
        {
          "output_type": "display_data",
          "data": {
            "text/plain": [
              "<Figure size 576x432 with 1 Axes>"
            ],
            "image/png": "[encoded data removed]"
          },
          "metadata": {
            "needs_background": "light"
          }
        }
      ]
    },
    {
      "cell_type": "code",
      "source": [
        "fig, ax = plt.subplots(figsize=(12,6))\n",
        "pd.DataFrame(generos.value_counts()).plot(y=0, kind=\"bar\", ax=ax)\n",
        "plt.show()"
      ],
      "metadata": {
        "colab": {
          "base_uri": "https://localhost:8080/",
          "height": 464
        },
        "id": "6VwIjeXPyKjH",
        "outputId": "40a9c111-8add-46f0-81f5-e31e947db4ae"
      },
      "execution_count": null,
      "outputs": [
        {
          "output_type": "display_data",
          "data": {
            "text/plain": [
              "<Figure size 864x432 with 1 Axes>"
            ],
            "image/png": "[encoded data removed]"
          },
          "metadata": {
            "needs_background": "light"
          }
        }
      ]
    },
    {
      "cell_type": "code",
      "source": [
        "titulos['ano_producao'].hist();"
      ],
      "metadata": {
        "colab": {
          "base_uri": "https://localhost:8080/",
          "height": 265
        },
        "id": "sRe3kUN-zbtx",
        "outputId": "fc5a1565-8725-488d-936e-1506ecb7bb0a"
      },
      "execution_count": null,
      "outputs": [
        {
          "output_type": "display_data",
          "data": {
            "text/plain": [
              "<Figure size 432x288 with 1 Axes>"
            ],
            "image/png": "[encoded data removed]"
          },
          "metadata": {
            "needs_background": "light"
          }
        }
      ]
    },
    {
      "cell_type": "code",
      "source": [
        "fig, ax = plt.subplots()\n",
        "\n",
        "titulos.plot.scatter(x='ano_producao', y='idade_recomendada', ax=ax, s='duracao') #tamanho\n",
        "\n",
        "plt.show()"
      ],
      "metadata": {
        "colab": {
          "base_uri": "https://localhost:8080/",
          "height": 280
        },
        "id": "dRHq8uyH0xjY",
        "outputId": "66bb3376-28a1-45b0-b97a-6c093fceb196"
      },
      "execution_count": null,
      "outputs": [
        {
          "output_type": "display_data",
          "data": {
            "text/plain": [
              "<Figure size 432x288 with 1 Axes>"
            ],
            "image/png": "[encoded data removed]"
          },
          "metadata": {
            "needs_background": "light"
          }
        }
      ]
    }
  ]
}